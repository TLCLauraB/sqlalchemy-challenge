{
 "cells": [
  {
   "cell_type": "code",
   "execution_count": 1,
   "metadata": {},
   "outputs": [],
   "source": [
    "%matplotlib inline\n",
    "from matplotlib import style\n",
    "style.use('fivethirtyeight')\n",
    "import matplotlib.pyplot as plt\n"
   ]
  },
  {
   "cell_type": "code",
   "execution_count": 2,
   "metadata": {},
   "outputs": [],
   "source": [
    "import numpy as np\n",
    "import pandas as pd\n",
    "import datetime as dt"
   ]
  },
  {
   "cell_type": "markdown",
   "metadata": {},
   "source": [
    "# Reflect Tables into SQLAlchemy ORM"
   ]
  },
  {
   "cell_type": "code",
   "execution_count": 3,
   "metadata": {},
   "outputs": [],
   "source": [
    "# Python SQL toolkit and Object Relational Mapper\n",
    "import sqlalchemy\n",
    "from sqlalchemy.ext.automap import automap_base\n",
    "from sqlalchemy.orm import Session\n",
    "from sqlalchemy import create_engine, func"
   ]
  },
  {
   "cell_type": "code",
   "execution_count": 4,
   "metadata": {},
   "outputs": [],
   "source": [
    "# create engine to hawaii.sqlite\n",
    "engine = create_engine(\"sqlite:///Resources/hawaii.sqlite\")"
   ]
  },
  {
   "cell_type": "code",
   "execution_count": 5,
   "metadata": {},
   "outputs": [
    {
     "name": "stdout",
     "output_type": "stream",
     "text": [
      "Table: measurement\n",
      "  Column: id, Type: INTEGER\n",
      "  Column: station, Type: TEXT\n",
      "  Column: date, Type: TEXT\n",
      "  Column: prcp, Type: FLOAT\n",
      "  Column: tobs, Type: FLOAT\n",
      "Table: station\n",
      "  Column: id, Type: INTEGER\n",
      "  Column: station, Type: TEXT\n",
      "  Column: name, Type: TEXT\n",
      "  Column: latitude, Type: FLOAT\n",
      "  Column: longitude, Type: FLOAT\n",
      "  Column: elevation, Type: FLOAT\n"
     ]
    }
   ],
   "source": [
    "# reflect an existing database into a new model\n",
    "\n",
    "# Create a base for your automapped classes\n",
    "Base = automap_base()\n",
    "\n",
    "# Reflect the existing database using the engine\n",
    "Base.prepare(engine, reflect = True)\n",
    "\n",
    "# Display the automapped classes from the reflected model\n",
    "for table_name, table_class in Base.classes.items():\n",
    "    print(f\"Table: {table_name}\")\n",
    "    for column in table_class.__table__.columns:\n",
    "        print(f\"  Column: {column.name}, Type: {column.type}\")\n"
   ]
  },
  {
   "cell_type": "code",
   "execution_count": 6,
   "metadata": {},
   "outputs": [],
   "source": [
    "# reflect the tables\n",
    "Measurement = Base.classes.measurement\n",
    "Station = Base.classes.station\n"
   ]
  },
  {
   "cell_type": "code",
   "execution_count": 7,
   "metadata": {},
   "outputs": [
    {
     "name": "stdout",
     "output_type": "stream",
     "text": [
      "Table Name: measurement\n",
      "Table Name: station\n"
     ]
    }
   ],
   "source": [
    "# View all of the classes that automap found\n",
    "\n",
    "for table_name, table_class in Base.classes.items():\n",
    "    print(f\"Table Name: {table_name}\")\n"
   ]
  },
  {
   "cell_type": "code",
   "execution_count": 8,
   "metadata": {},
   "outputs": [],
   "source": [
    "# Save references to each table\n",
    "\n",
    "# Create a dictionary to store references to the table classes\n",
    "table_classes = {}\n",
    "\n",
    "# Iterate through the automapped classes and store them in the dictionary\n",
    "for table_name, table_class in Base.classes.items():\n",
    "    table_classes[table_name] = table_class\n",
    "\n",
    "# Measurement Table\n",
    "measurement_table = table_classes[\"measurement\"]\n",
    "\n",
    "# Station Table\n",
    "station_table = table_classes[\"station\"]\n"
   ]
  },
  {
   "cell_type": "code",
   "execution_count": 9,
   "metadata": {},
   "outputs": [],
   "source": [
    "# Create our session (link) from Python to the DB\n",
    "session = Session(engine)"
   ]
  },
  {
   "cell_type": "markdown",
   "metadata": {},
   "source": [
    "# Exploratory Precipitation Analysis"
   ]
  },
  {
   "cell_type": "code",
   "execution_count": 10,
   "metadata": {},
   "outputs": [
    {
     "name": "stdout",
     "output_type": "stream",
     "text": [
      "The most recent date in the dataset is: 2017-08-23\n"
     ]
    }
   ],
   "source": [
    "# Find the most recent date in the data set.\n",
    "most_recent_date = session.query(func.max(measurement_table.date)).scalar()\n",
    "\n",
    "# The most recent date\n",
    "print(f\"The most recent date in the dataset is: {most_recent_date}\")\n"
   ]
  },
  {
   "cell_type": "code",
   "execution_count": 11,
   "metadata": {},
   "outputs": [],
   "source": [
    "# Design a query to retrieve the last 12 months of precipitation data and plot the results. \n",
    "# Starting from the most recent data point in the database. \n",
    "\n",
    "\n",
    "# Calculate the date one year from the last date in the dataset\n",
    "most_recent_date = session.query(func.max(Measurement.date)).scalar()\n",
    "one_year_ago = (pd.to_datetime(most_recent_date) - pd.DateOffset(years=1)).strftime('%Y-%m-%d')\n",
    "\n",
    "# Calculate the start date for the 12-month period\n",
    "start_date = (pd.to_datetime(most_recent_date) - pd.DateOffset(years=1, months=0, days=0)).strftime('%Y-%m-%d')\n"
   ]
  },
  {
   "cell_type": "code",
   "execution_count": 12,
   "metadata": {},
   "outputs": [],
   "source": [
    "# Perform a query to retrieve the data and precipitation scores for the last 12 months\n",
    "precipitation_data = session.query(Measurement.date, Measurement.prcp).\\\n",
    "    filter(Measurement.date >= start_date).\\\n",
    "    filter(Measurement.date <= most_recent_date).\\\n",
    "    order_by(Measurement.date).all()\n",
    "\n",
    "# Save the query results as a Pandas DataFrame with column names\n",
    "precipitation_df = pd.DataFrame(precipitation_data, columns=[\"Date\", \"Precipitation\"])\n",
    "\n",
    "# Sort the DataFrame by date\n",
    "precipitation_df = precipitation_df.sort_values(\"Date\")\n"
   ]
  },
  {
   "cell_type": "code",
   "execution_count": 13,
   "metadata": {},
   "outputs": [],
   "source": [
    "# Perform a query to retrieve the data and precipitation scores for the last 12 months\n",
    "precipitation_data = session.query(Measurement.date, Measurement.prcp).\\\n",
    "    filter(Measurement.date <= one_year_ago).\\\n",
    "    order_by(Measurement.date).all()\n",
    "\n",
    "# Save the query results as a Pandas DataFrame with column names\n",
    "precipitation_df = pd.DataFrame(precipitation_data, columns=[\"Date\", \"Precipitation\"])\n",
    "\n",
    "# Sort the DataFrame by date\n",
    "precipitation_df = precipitation_df.sort_values(\"Date\")"
   ]
  },
  {
   "cell_type": "code",
   "execution_count": 14,
   "metadata": {
    "scrolled": false
   },
   "outputs": [
    {
     "name": "stderr",
     "output_type": "stream",
     "text": [
      "C:\\Users\\TLCLa\\anaconda3\\envs\\dev\\lib\\site-packages\\IPython\\core\\pylabtools.py:152: UserWarning: Creating legend with loc=\"best\" can be slow with large amounts of data.\n",
      "  fig.canvas.print_figure(bytes_io, **kw)\n"
     ]
    },
    {
     "data": {
      "image/png": "[encoded data removed]",
      "text/plain": [
       "<Figure size 640x480 with 1 Axes>"
      ]
     },
     "metadata": {},
     "output_type": "display_data"
    }
   ],
   "source": [
    "# Use Pandas Plotting with Matplotlib to plot the data\n",
    "plt.bar(precipitation_df[\"Date\"], precipitation_df[\"Precipitation\"], label=\"Precipitation\")\n",
    "plt.xlabel(\"Date\")\n",
    "plt.ylabel(\"Precipitation (inches)\")\n",
    "plt.title(\"Precipitation Data for the Last 12 Months\")\n",
    "# plt.locator_params(axis='x', nbins=5)\n",
    "plt.ylim(-.5,7)\n",
    "plt.xticks(rotation=90)\n",
    "plt.legend()\n",
    "\n",
    "\n",
    "plt.show()\n"
   ]
  },
  {
   "cell_type": "code",
   "execution_count": 15,
   "metadata": {},
   "outputs": [],
   "source": [
    "# NOTE: This table is NOT correct. But I don't understand what I'm doing wrong to know how to fix it?\n",
    "\n",
    "# NOTE: Fellow studen Katy Yelle suggested the following article to help solve the issue with my Precipitation Plot: https://stackoverflow.com/questions/6682784/reducing-number-of-plot-ticks/49714879#49714879\n",
    "# I could not make the incorporated ideas from the Stack Overflow article work. It errored out at pyplot.locator_params, saying no such function was defined. "
   ]
  },
  {
   "cell_type": "code",
   "execution_count": 16,
   "metadata": {},
   "outputs": [
    {
     "name": "stdout",
     "output_type": "stream",
     "text": [
      "count    16088.000000\n",
      "mean         0.158662\n",
      "std          0.469771\n",
      "min          0.000000\n",
      "25%          0.000000\n",
      "50%          0.010000\n",
      "75%          0.100000\n",
      "max         11.530000\n",
      "Name: Precipitation, dtype: float64\n"
     ]
    }
   ],
   "source": [
    "# Use Pandas to calculate the summary statistics for the precipitation data\n",
    "\n",
    "# Calculate summary statistics for the precipitation data\n",
    "summary_statistics = precipitation_df[\"Precipitation\"].describe()\n",
    "\n",
    "# Display the summary statistics\n",
    "print(summary_statistics)\n"
   ]
  },
  {
   "cell_type": "markdown",
   "metadata": {},
   "source": [
    "# Exploratory Station Analysis"
   ]
  },
  {
   "cell_type": "code",
   "execution_count": 17,
   "metadata": {},
   "outputs": [
    {
     "name": "stdout",
     "output_type": "stream",
     "text": [
      "The total number of stations in the dataset is: 9\n"
     ]
    }
   ],
   "source": [
    "# Design a query to calculate the total number of stations in the dataset\n",
    "total_stations = session.query(func.count(Station.station)).scalar()\n",
    "\n",
    "# Print the total number of stations\n",
    "print(f\"The total number of stations in the dataset is: {total_stations}\")\n"
   ]
  },
  {
   "cell_type": "code",
   "execution_count": 18,
   "metadata": {},
   "outputs": [
    {
     "name": "stdout",
     "output_type": "stream",
     "text": [
      "Most Active Stations (in descending order):\n",
      "Station ID: USC00519281, Count: 2772\n",
      "Station ID: USC00519397, Count: 2724\n",
      "Station ID: USC00513117, Count: 2709\n",
      "Station ID: USC00519523, Count: 2669\n",
      "Station ID: USC00516128, Count: 2612\n",
      "Station ID: USC00514830, Count: 2202\n",
      "Station ID: USC00511918, Count: 1979\n",
      "Station ID: USC00517948, Count: 1372\n",
      "Station ID: USC00518838, Count: 511\n"
     ]
    }
   ],
   "source": [
    "# Design a query to find the most active stations (i.e. which stations have the most rows?)\n",
    "# List the stations and their counts in descending order.\n",
    "\n",
    "\n",
    "# Design a query to find the most active stations and their counts\n",
    "active_stations = session.query(Measurement.station, func.count(Measurement.station)).\\\n",
    "    group_by(Measurement.station).\\\n",
    "    order_by(func.count(Measurement.station).desc()).all()\n",
    "\n",
    "# List the stations and their counts in descending order\n",
    "print(\"Most Active Stations (in descending order):\")\n",
    "for station, count in active_stations:\n",
    "    print(f\"Station ID: {station}, Count: {count}\")"
   ]
  },
  {
   "cell_type": "code",
   "execution_count": 19,
   "metadata": {},
   "outputs": [],
   "source": [
    "# Using the most active station id from the previous query, calculate the lowest, highest, and average temperature.\n",
    "\n",
    "# Find the most active station (as calculated in the previous query)\n",
    "most_active_station = session.query(Measurement.station).\\\n",
    "    group_by(Measurement.station).\\\n",
    "    order_by(func.count(Measurement.station).desc()).first()\n",
    "\n",
    "# Unpack the station ID from the result\n",
    "most_active_station_id = most_active_station[0]\n",
    "\n",
    "# Calculate the lowest, highest, and average temperature for the most active station\n",
    "temperature_data = session.query(func.min(Measurement.tobs),\n",
    "                                 func.max(Measurement.tobs),\n",
    "                                 func.avg(Measurement.tobs)).\\\n",
    "    filter(Measurement.station == most_active_station_id).first()"
   ]
  },
  {
   "cell_type": "code",
   "execution_count": 20,
   "metadata": {},
   "outputs": [
    {
     "name": "stdout",
     "output_type": "stream",
     "text": [
      "Most Active Station ID: USC00519281\n",
      "Lowest Temperature: 54.0 F\n",
      "Highest Temperature: 85.0 F\n",
      "Average Temperature: 71.66378066378067 F\n"
     ]
    }
   ],
   "source": [
    "# Unpack the result\n",
    "lowest_temperature = temperature_data[0]\n",
    "highest_temperature = temperature_data[1]\n",
    "average_temperature = temperature_data[2]\n",
    "\n",
    "# Print the results\n",
    "print(f\"Most Active Station ID: {most_active_station_id}\")\n",
    "print(f\"Lowest Temperature: {lowest_temperature} F\")\n",
    "print(f\"Highest Temperature: {highest_temperature} F\")\n",
    "print(f\"Average Temperature: {average_temperature} F\")"
   ]
  },
  {
   "cell_type": "code",
   "execution_count": 21,
   "metadata": {},
   "outputs": [],
   "source": [
    "# Using the most active station id\n",
    "# Query the last 12 months of temperature observation data for this station and plot the results as a histogram\n",
    "\n",
    "# Find the most active station (as calculated in the previous query)\n",
    "most_active_station = session.query(Measurement.station).\\\n",
    "    group_by(Measurement.station).\\\n",
    "    order_by(func.count(Measurement.station).desc()).first()\n",
    "\n",
    "# Unpack the station ID from the result\n",
    "most_active_station_id = most_active_station[0]\n",
    "\n",
    "# Calculate the date one year from the last date in the dataset\n",
    "most_recent_date = session.query(func.max(Measurement.date)).scalar()\n",
    "one_year_ago = (pd.to_datetime(most_recent_date) - pd.DateOffset(years=1)).strftime('%Y-%m-%d')\n",
    "\n",
    "# Retrieve the temperature observation data for the last 12 months for the most active station\n",
    "temperature_data = session.query(Measurement.tobs).\\\n",
    "    filter(Measurement.station == most_active_station_id).\\\n",
    "    filter(Measurement.date >= one_year_ago).all()\n",
    "\n",
    "# Convert the query results to a Pandas DataFrame\n",
    "temperature_df = pd.DataFrame(temperature_data, columns=[\"Temperature (F)\"])\n"
   ]
  },
  {
   "cell_type": "code",
   "execution_count": 22,
   "metadata": {},
   "outputs": [
    {
     "data": {
      "image/png": "[encoded data removed]",
      "text/plain": [
       "<Figure size 640x480 with 1 Axes>"
      ]
     },
     "metadata": {},
     "output_type": "display_data"
    }
   ],
   "source": [
    "# Create a histogram plot\n",
    "plt.hist(temperature_df[\"Temperature (F)\"], bins=12, alpha=0.7)\n",
    "plt.xlabel(\"Temperature (F)\")\n",
    "plt.ylabel(\"Frequency\")\n",
    "plt.title(f\"Temperature Observation Data\\nLast 12 Months\\nStation: {most_active_station_id}\")\n",
    "plt.tight_layout()\n",
    "plt.show()"
   ]
  },
  {
   "cell_type": "markdown",
   "metadata": {},
   "source": [
    "# Close Session"
   ]
  },
  {
   "cell_type": "code",
   "execution_count": 23,
   "metadata": {},
   "outputs": [],
   "source": [
    "# Close Session\n",
    "session.close()"
   ]
  },
  {
   "cell_type": "code",
   "execution_count": null,
   "metadata": {},
   "outputs": [],
   "source": []
  }
 ],
 "metadata": {
  "anaconda-cloud": {},
  "kernel_info": {
   "name": "python3"
  },
  "kernelspec": {
   "display_name": "Python 3 (ipykernel)",
   "language": "python",
   "name": "python3"
  },
  "language_info": {
   "codemirror_mode": {
    "name": "ipython",
    "version": 3
   },
   "file_extension": ".py",
   "mimetype": "text/x-python",
   "name": "python",
   "nbconvert_exporter": "python",
   "pygments_lexer": "ipython3",
   "version": "3.10.12"
  },
  "nteract": {
   "version": "0.12.3"
  },
  "varInspector": {
   "cols": {
    "lenName": 16,
    "lenType": 16,
    "lenVar": 40
   },
   "kernels_config": {
    "python": {
     "delete_cmd_postfix": "",
     "delete_cmd_prefix": "del ",
     "library": "var_list.py",
     "varRefreshCmd": "print(var_dic_list())"
    },
    "r": {
     "delete_cmd_postfix": ") ",
     "delete_cmd_prefix": "rm(",
     "library": "var_list.r",
     "varRefreshCmd": "cat(var_dic_list()) "
    }
   },
   "types_to_exclude": [
    "module",
    "function",
    "builtin_function_or_method",
    "instance",
    "_Feature"
   ],
   "window_display": false
  }
 },
 "nbformat": 4,
 "nbformat_minor": 2
}
